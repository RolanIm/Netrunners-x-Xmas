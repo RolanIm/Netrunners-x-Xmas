{
 "cells": [
  {
   "cell_type": "code",
   "execution_count": 55,
   "id": "51d8bbe1-86d2-4025-9ba1-ba777e10324d",
   "metadata": {},
   "outputs": [],
   "source": [
    "# Competition analysis"
   ]
  },
  {
   "cell_type": "code",
   "execution_count": 202,
   "id": "f4231100-e57d-46a7-bc21-7b3acc63a627",
   "metadata": {},
   "outputs": [],
   "source": [
    "import pandas as pd\n",
    "import matplotlib"
   ]
  },
  {
   "cell_type": "code",
   "execution_count": 203,
   "id": "760a30c3-c940-4f8a-8eff-c612e1ba5718",
   "metadata": {},
   "outputs": [],
   "source": [
    "df = pd.read_excel(\"../data/Приложение_4_Реестр_по_оборотам_для_кейса.xlsx\")  # читаем данные"
   ]
  },
  {
   "cell_type": "code",
   "execution_count": 204,
   "id": "b1fbcd9b-5544-4d8a-8f5d-27004bd84b25",
   "metadata": {},
   "outputs": [
    {
     "data": {
      "text/html": [
       "<div>\n",
       "<style scoped>\n",
       "    .dataframe tbody tr th:only-of-type {\n",
       "        vertical-align: middle;\n",
       "    }\n",
       "\n",
       "    .dataframe tbody tr th {\n",
       "        vertical-align: top;\n",
       "    }\n",
       "\n",
       "    .dataframe thead th {\n",
       "        text-align: right;\n",
       "    }\n",
       "</style>\n",
       "<table border=\"1\" class=\"dataframe\">\n",
       "  <thead>\n",
       "    <tr style=\"text-align: right;\">\n",
       "      <th></th>\n",
       "      <th>Клиент</th>\n",
       "      <th>Сегмент</th>\n",
       "      <th>Пол</th>\n",
       "      <th>Возраст</th>\n",
       "      <th>Город</th>\n",
       "      <th>Авто</th>\n",
       "      <th>АЗС</th>\n",
       "      <th>Аренда авто</th>\n",
       "      <th>Дом и ремонт</th>\n",
       "      <th>Животные</th>\n",
       "      <th>...</th>\n",
       "      <th>Спортивные товары</th>\n",
       "      <th>Супермаркеты</th>\n",
       "      <th>Такси</th>\n",
       "      <th>Техника</th>\n",
       "      <th>Транспорт</th>\n",
       "      <th>Фастфуд</th>\n",
       "      <th>Фастфуд, кафе, рестораны</th>\n",
       "      <th>Цветы</th>\n",
       "      <th>Цифровые товары</th>\n",
       "      <th>Ювелирные изделия</th>\n",
       "    </tr>\n",
       "  </thead>\n",
       "  <tbody>\n",
       "    <tr>\n",
       "      <th>5873</th>\n",
       "      <td>AAL3TK</td>\n",
       "      <td>MASS</td>\n",
       "      <td>Ж</td>\n",
       "      <td>53</td>\n",
       "      <td>Краснодар</td>\n",
       "      <td></td>\n",
       "      <td>1150.38</td>\n",
       "      <td></td>\n",
       "      <td></td>\n",
       "      <td></td>\n",
       "      <td>...</td>\n",
       "      <td></td>\n",
       "      <td>615.72</td>\n",
       "      <td></td>\n",
       "      <td></td>\n",
       "      <td></td>\n",
       "      <td></td>\n",
       "      <td></td>\n",
       "      <td></td>\n",
       "      <td></td>\n",
       "      <td></td>\n",
       "    </tr>\n",
       "    <tr>\n",
       "      <th>53305</th>\n",
       "      <td>AG3TCW</td>\n",
       "      <td>MASS</td>\n",
       "      <td>М</td>\n",
       "      <td>32</td>\n",
       "      <td>Санкт-Петербург</td>\n",
       "      <td>0</td>\n",
       "      <td>0</td>\n",
       "      <td>0</td>\n",
       "      <td>1282.05</td>\n",
       "      <td>0</td>\n",
       "      <td>...</td>\n",
       "      <td>0</td>\n",
       "      <td>21188.7795</td>\n",
       "      <td>0</td>\n",
       "      <td>0</td>\n",
       "      <td>3058.125</td>\n",
       "      <td>2619.75</td>\n",
       "      <td>2619.75</td>\n",
       "      <td>0</td>\n",
       "      <td>0</td>\n",
       "      <td>0</td>\n",
       "    </tr>\n",
       "    <tr>\n",
       "      <th>37246</th>\n",
       "      <td>AE7E9F</td>\n",
       "      <td>MASS</td>\n",
       "      <td>Ж</td>\n",
       "      <td>41</td>\n",
       "      <td>Омск</td>\n",
       "      <td></td>\n",
       "      <td>987.6405</td>\n",
       "      <td></td>\n",
       "      <td></td>\n",
       "      <td></td>\n",
       "      <td>...</td>\n",
       "      <td></td>\n",
       "      <td>8291.64</td>\n",
       "      <td></td>\n",
       "      <td></td>\n",
       "      <td>78.75</td>\n",
       "      <td>1363.257</td>\n",
       "      <td>9343.257</td>\n",
       "      <td></td>\n",
       "      <td></td>\n",
       "      <td></td>\n",
       "    </tr>\n",
       "    <tr>\n",
       "      <th>36365</th>\n",
       "      <td>AE3KEU</td>\n",
       "      <td>MASS</td>\n",
       "      <td>М</td>\n",
       "      <td>37</td>\n",
       "      <td>Москва</td>\n",
       "      <td></td>\n",
       "      <td>548.1</td>\n",
       "      <td>105</td>\n",
       "      <td></td>\n",
       "      <td></td>\n",
       "      <td>...</td>\n",
       "      <td></td>\n",
       "      <td></td>\n",
       "      <td></td>\n",
       "      <td></td>\n",
       "      <td></td>\n",
       "      <td>777</td>\n",
       "      <td>777</td>\n",
       "      <td></td>\n",
       "      <td>627.9</td>\n",
       "      <td></td>\n",
       "    </tr>\n",
       "    <tr>\n",
       "      <th>54202</th>\n",
       "      <td>AG7Y3E</td>\n",
       "      <td>MASS</td>\n",
       "      <td>Ж</td>\n",
       "      <td>46</td>\n",
       "      <td>Липецк</td>\n",
       "      <td>0</td>\n",
       "      <td>3149.034</td>\n",
       "      <td>0</td>\n",
       "      <td>0</td>\n",
       "      <td>0</td>\n",
       "      <td>...</td>\n",
       "      <td>0</td>\n",
       "      <td>26465.922</td>\n",
       "      <td>0</td>\n",
       "      <td>0</td>\n",
       "      <td>0</td>\n",
       "      <td>0</td>\n",
       "      <td>0</td>\n",
       "      <td>0</td>\n",
       "      <td>0</td>\n",
       "      <td>0</td>\n",
       "    </tr>\n",
       "    <tr>\n",
       "      <th>...</th>\n",
       "      <td>...</td>\n",
       "      <td>...</td>\n",
       "      <td>...</td>\n",
       "      <td>...</td>\n",
       "      <td>...</td>\n",
       "      <td>...</td>\n",
       "      <td>...</td>\n",
       "      <td>...</td>\n",
       "      <td>...</td>\n",
       "      <td>...</td>\n",
       "      <td>...</td>\n",
       "      <td>...</td>\n",
       "      <td>...</td>\n",
       "      <td>...</td>\n",
       "      <td>...</td>\n",
       "      <td>...</td>\n",
       "      <td>...</td>\n",
       "      <td>...</td>\n",
       "      <td>...</td>\n",
       "      <td>...</td>\n",
       "      <td>...</td>\n",
       "    </tr>\n",
       "    <tr>\n",
       "      <th>47408</th>\n",
       "      <td>AFE7W6</td>\n",
       "      <td>MASS</td>\n",
       "      <td>Ж</td>\n",
       "      <td>50</td>\n",
       "      <td>Москва</td>\n",
       "      <td>0</td>\n",
       "      <td>0</td>\n",
       "      <td>0</td>\n",
       "      <td>0</td>\n",
       "      <td>0</td>\n",
       "      <td>...</td>\n",
       "      <td>0</td>\n",
       "      <td>27152.2335</td>\n",
       "      <td>1109.85</td>\n",
       "      <td>399</td>\n",
       "      <td>0</td>\n",
       "      <td>613.2</td>\n",
       "      <td>1997.31</td>\n",
       "      <td>0</td>\n",
       "      <td>0</td>\n",
       "      <td>0</td>\n",
       "    </tr>\n",
       "    <tr>\n",
       "      <th>33256</th>\n",
       "      <td>ADPKTH</td>\n",
       "      <td>AFFLUENT</td>\n",
       "      <td>М</td>\n",
       "      <td>37</td>\n",
       "      <td>Москва</td>\n",
       "      <td></td>\n",
       "      <td></td>\n",
       "      <td></td>\n",
       "      <td></td>\n",
       "      <td></td>\n",
       "      <td>...</td>\n",
       "      <td></td>\n",
       "      <td>3591.1575</td>\n",
       "      <td>631.05</td>\n",
       "      <td>3213</td>\n",
       "      <td>2366.7</td>\n",
       "      <td>9649.5</td>\n",
       "      <td>20611.5</td>\n",
       "      <td></td>\n",
       "      <td></td>\n",
       "      <td></td>\n",
       "    </tr>\n",
       "    <tr>\n",
       "      <th>16081</th>\n",
       "      <td>ABN4IV</td>\n",
       "      <td>MASS</td>\n",
       "      <td>М</td>\n",
       "      <td>50</td>\n",
       "      <td>Химки</td>\n",
       "      <td></td>\n",
       "      <td></td>\n",
       "      <td></td>\n",
       "      <td></td>\n",
       "      <td></td>\n",
       "      <td>...</td>\n",
       "      <td></td>\n",
       "      <td>2684.7345</td>\n",
       "      <td></td>\n",
       "      <td>2203.95</td>\n",
       "      <td>315</td>\n",
       "      <td>10243.8</td>\n",
       "      <td>11404.05</td>\n",
       "      <td></td>\n",
       "      <td></td>\n",
       "      <td></td>\n",
       "    </tr>\n",
       "    <tr>\n",
       "      <th>23025</th>\n",
       "      <td>ACCW5B</td>\n",
       "      <td>MASS</td>\n",
       "      <td>Ж</td>\n",
       "      <td>35</td>\n",
       "      <td>Химки</td>\n",
       "      <td></td>\n",
       "      <td></td>\n",
       "      <td></td>\n",
       "      <td></td>\n",
       "      <td></td>\n",
       "      <td>...</td>\n",
       "      <td></td>\n",
       "      <td>6380.85</td>\n",
       "      <td></td>\n",
       "      <td></td>\n",
       "      <td></td>\n",
       "      <td></td>\n",
       "      <td></td>\n",
       "      <td></td>\n",
       "      <td></td>\n",
       "      <td></td>\n",
       "    </tr>\n",
       "    <tr>\n",
       "      <th>19136</th>\n",
       "      <td>ABXRM1</td>\n",
       "      <td>AFFLUENT</td>\n",
       "      <td>М</td>\n",
       "      <td>60</td>\n",
       "      <td>Москва</td>\n",
       "      <td>157.5</td>\n",
       "      <td>8770.65</td>\n",
       "      <td></td>\n",
       "      <td></td>\n",
       "      <td></td>\n",
       "      <td>...</td>\n",
       "      <td></td>\n",
       "      <td>25462.7625</td>\n",
       "      <td></td>\n",
       "      <td></td>\n",
       "      <td></td>\n",
       "      <td>11670.6975</td>\n",
       "      <td>18557.6475</td>\n",
       "      <td></td>\n",
       "      <td></td>\n",
       "      <td></td>\n",
       "    </tr>\n",
       "  </tbody>\n",
       "</table>\n",
       "<p>350 rows × 30 columns</p>\n",
       "</div>"
      ],
      "text/plain": [
       "       Клиент   Сегмент Пол  Возраст            Город   Авто       АЗС  \\\n",
       "5873   AAL3TK      MASS   Ж       53        Краснодар          1150.38   \n",
       "53305  AG3TCW      MASS   М       32  Санкт-Петербург      0         0   \n",
       "37246  AE7E9F      MASS   Ж       41             Омск         987.6405   \n",
       "36365  AE3KEU      MASS   М       37           Москва            548.1   \n",
       "54202  AG7Y3E      MASS   Ж       46           Липецк      0  3149.034   \n",
       "...       ...       ...  ..      ...              ...    ...       ...   \n",
       "47408  AFE7W6      MASS   Ж       50           Москва      0         0   \n",
       "33256  ADPKTH  AFFLUENT   М       37           Москва                    \n",
       "16081  ABN4IV      MASS   М       50            Химки                    \n",
       "23025  ACCW5B      MASS   Ж       35            Химки                    \n",
       "19136  ABXRM1  AFFLUENT   М       60           Москва  157.5   8770.65   \n",
       "\n",
       "      Аренда авто Дом и ремонт Животные  ... Спортивные товары Супермаркеты  \\\n",
       "5873                                     ...                         615.72   \n",
       "53305           0      1282.05        0  ...                 0   21188.7795   \n",
       "37246                                    ...                        8291.64   \n",
       "36365         105                        ...                                  \n",
       "54202           0            0        0  ...                 0    26465.922   \n",
       "...           ...          ...      ...  ...               ...          ...   \n",
       "47408           0            0        0  ...                 0   27152.2335   \n",
       "33256                                    ...                      3591.1575   \n",
       "16081                                    ...                      2684.7345   \n",
       "23025                                    ...                        6380.85   \n",
       "19136                                    ...                     25462.7625   \n",
       "\n",
       "         Такси  Техника Транспорт     Фастфуд Фастфуд, кафе, рестораны Цветы  \\\n",
       "5873                                                                           \n",
       "53305        0        0  3058.125     2619.75                  2619.75     0   \n",
       "37246                       78.75    1363.257                 9343.257         \n",
       "36365                                     777                      777         \n",
       "54202        0        0         0           0                        0     0   \n",
       "...        ...      ...       ...         ...                      ...   ...   \n",
       "47408  1109.85      399         0       613.2                  1997.31     0   \n",
       "33256   631.05     3213    2366.7      9649.5                  20611.5         \n",
       "16081           2203.95       315     10243.8                 11404.05         \n",
       "23025                                                                          \n",
       "19136                              11670.6975               18557.6475         \n",
       "\n",
       "      Цифровые товары Ювелирные изделия  \n",
       "5873                                     \n",
       "53305               0                 0  \n",
       "37246                                    \n",
       "36365           627.9                    \n",
       "54202               0                 0  \n",
       "...               ...               ...  \n",
       "47408               0                 0  \n",
       "33256                                    \n",
       "16081                                    \n",
       "23025                                    \n",
       "19136                                    \n",
       "\n",
       "[350 rows x 30 columns]"
      ]
     },
     "execution_count": 204,
     "metadata": {},
     "output_type": "execute_result"
    }
   ],
   "source": [
    "df.sample(350)  # выводим 350 случайных записей из файла"
   ]
  },
  {
   "cell_type": "code",
   "execution_count": 206,
   "id": "c7f4935d-e892-4f56-880a-77bd99c63198",
   "metadata": {},
   "outputs": [
    {
     "data": {
      "text/plain": [
       "<Axes: ylabel='Frequency'>"
      ]
     },
     "execution_count": 206,
     "metadata": {},
     "output_type": "execute_result"
    },
    {
     "data": {
      "image/png": "[encoded data removed]",
      "text/plain": [
       "<Figure size 640x480 with 1 Axes>"
      ]
     },
     "metadata": {},
     "output_type": "display_data"
    }
   ],
   "source": [
    "df[\"Возраст\"].plot(kind='hist')  # найдем средний возраст клиентов"
   ]
  },
  {
   "cell_type": "code",
   "execution_count": 207,
   "id": "3264d8aa-9d43-4219-967a-dfb487636ec9",
   "metadata": {},
   "outputs": [
    {
     "name": "stdout",
     "output_type": "stream",
     "text": [
      "<class 'pandas.core.frame.DataFrame'>\n",
      "RangeIndex: 65445 entries, 0 to 65444\n",
      "Data columns (total 30 columns):\n",
      " #   Column                    Non-Null Count  Dtype \n",
      "---  ------                    --------------  ----- \n",
      " 0   Клиент                    65445 non-null  object\n",
      " 1   Сегмент                   64592 non-null  object\n",
      " 2   Пол                       65445 non-null  object\n",
      " 3   Возраст                   65445 non-null  int64 \n",
      " 4   Город                     65445 non-null  object\n",
      " 5   Авто                      65445 non-null  object\n",
      " 6   АЗС                       65445 non-null  object\n",
      " 7   Аренда авто               65445 non-null  object\n",
      " 8   Дом и ремонт              65445 non-null  object\n",
      " 9   Животные                  65445 non-null  object\n",
      " 10  Здоровье                  65445 non-null  object\n",
      " 11  Кафе и рестораны          65445 non-null  object\n",
      " 12  Книги                     65445 non-null  object\n",
      " 13  Коммунальные услуги       65445 non-null  object\n",
      " 14  Красота                   65445 non-null  object\n",
      " 15  Образование               65445 non-null  object\n",
      " 16  Одежда и обувь            65445 non-null  object\n",
      " 17  Путешествия               65445 non-null  object\n",
      " 18  Развлечения               65445 non-null  object\n",
      " 19  Связь, интернет и ТВ      65445 non-null  object\n",
      " 20  Спортивные товары         65445 non-null  object\n",
      " 21  Супермаркеты              65445 non-null  object\n",
      " 22  Такси                     65445 non-null  object\n",
      " 23  Техника                   65445 non-null  object\n",
      " 24  Транспорт                 65445 non-null  object\n",
      " 25  Фастфуд                   65445 non-null  object\n",
      " 26  Фастфуд, кафе, рестораны  65445 non-null  object\n",
      " 27  Цветы                     65445 non-null  object\n",
      " 28  Цифровые товары           65445 non-null  object\n",
      " 29  Ювелирные изделия         65445 non-null  object\n",
      "dtypes: int64(1), object(29)\n",
      "memory usage: 15.0+ MB\n"
     ]
    }
   ],
   "source": [
    "df.info()"
   ]
  },
  {
   "cell_type": "code",
   "execution_count": 209,
   "id": "df7d2560-7144-4461-99d7-c08dabcce758",
   "metadata": {},
   "outputs": [
    {
     "name": "stdout",
     "output_type": "stream",
     "text": [
      "Максимальный возраст Клиента: 92\n",
      "Минимальный возраст Клиента: 23\n"
     ]
    }
   ],
   "source": [
    "print('Максимальный возраст Клиента:', df[\"Возраст\"].max())\n",
    "print('Минимальный возраст Клиента:', df[\"Возраст\"].min())"
   ]
  },
  {
   "cell_type": "code",
   "execution_count": 210,
   "id": "4da0d2a6-f962-4fdd-9f98-28adfa5db824",
   "metadata": {},
   "outputs": [],
   "source": [
    "#  Производим выборку по полу\n",
    "sex_condition1 = df[df[\"Пол\"] == \"М\"]\n",
    "sex_condition2 = df[df[\"Пол\"] == \"Ж\"]"
   ]
  },
  {
   "cell_type": "code",
   "execution_count": 211,
   "id": "bb6a1d19-6d4b-4411-81fb-8d0073f3b8e3",
   "metadata": {},
   "outputs": [
    {
     "name": "stdout",
     "output_type": "stream",
     "text": [
      "Количество мужчин: 31595\n",
      "Количество женщин: 33850\n"
     ]
    }
   ],
   "source": [
    "print(f\"Количество мужчин: {len(sex1)}\")\n",
    "print(f\"Количество женщин: {len(sex2)}\")"
   ]
  },
  {
   "cell_type": "code",
   "execution_count": 212,
   "id": "4af3d8ce-247c-446e-a648-b8a23ef01c67",
   "metadata": {},
   "outputs": [
    {
     "name": "stdout",
     "output_type": "stream",
     "text": [
      "Самым популярным сегментом рынка среди мужчин является MASS. Количество: 14148.\n",
      "Масс-маркет (mass-market) — это сегмент рынка, где производят и продают товары, рассчитанные на массовое потребление\n"
     ]
    }
   ],
   "source": [
    "#  Исходя из выборки по полу, мы можем определить самый популярный сегмент рынка среди мужчин\n",
    "most_popular_segment_counts1 = sex_condition1['Сегмент'].value_counts()\n",
    "most_popular_segment = most_popular_segment_counts1.idxmax()\n",
    "count = most_popular_segment_counts1.max()\n",
    "\n",
    "print(f\"Самым популярным сегментом рынка среди мужчин является {most_popular_segment}. Количество: {count}.\")\n",
    "print('Масс-маркет (mass-market) — это сегмент рынка, где производят и продают товары, рассчитанные на массовое потребление')"
   ]
  },
  {
   "cell_type": "code",
   "execution_count": 213,
   "id": "b79966af-c7fb-4a6f-8b4e-fcb500db19d4",
   "metadata": {},
   "outputs": [
    {
     "name": "stdout",
     "output_type": "stream",
     "text": [
      "Самым популярным сегментом рынка среди женщин является MASS. Количество: 20330.\n",
      "Масс-маркет (mass-market) — это сегмент рынка, где производят и продают товары, рассчитанные на массовое потребление\n"
     ]
    }
   ],
   "source": [
    "#  Исходя из выборки по полу, мы можем определить самый популярный сегмент рынка среди женщин\n",
    "most_popular_segment_counts2 = sex_condition2['Сегмент'].value_counts()\n",
    "most_popular_segment = most_popular_segment_counts2.idxmax()\n",
    "count = most_popular_segment_counts2.max()\n",
    "\n",
    "print(f\"Самым популярным сегментом рынка среди женщин является {most_popular_segment}. Количество: {count}.\")\n",
    "print('Масс-маркет (mass-market) — это сегмент рынка, где производят и продают товары, рассчитанные на массовое потребление')"
   ]
  },
  {
   "cell_type": "code",
   "execution_count": 214,
   "id": "76bfe0f5-76fb-45a4-813e-1e7b811f0bcd",
   "metadata": {},
   "outputs": [
    {
     "name": "stdout",
     "output_type": "stream",
     "text": [
      "Топ 5 самых популярных городов по численности среди мужчин: \n",
      "Axes(0.22375,0.11;0.5775x0.77)\n",
      "\n"
     ]
    },
    {
     "data": {
      "image/png": "[encoded data removed]",
      "text/plain": [
       "<Figure size 640x480 with 1 Axes>"
      ]
     },
     "metadata": {},
     "output_type": "display_data"
    }
   ],
   "source": [
    "most_popular_cities_counts1 = sex_condition1['Город'].value_counts()\n",
    "print(f\"Топ 5 самых популярных городов по численности среди мужчин: \\n{most_popular_cities_counts1.head().plot(kind='pie')}\\n\")"
   ]
  },
  {
   "cell_type": "code",
   "execution_count": 215,
   "id": "64c4795e-f7df-4a7d-a938-567506271fa7",
   "metadata": {},
   "outputs": [
    {
     "name": "stdout",
     "output_type": "stream",
     "text": [
      "Топ 5 самых популярных городов по численности среди женщин: \n",
      "Axes(0.22375,0.11;0.5775x0.77)\n",
      "\n"
     ]
    },
    {
     "data": {
      "image/png": "[encoded data removed]",
      "text/plain": [
       "<Figure size 640x480 with 1 Axes>"
      ]
     },
     "metadata": {},
     "output_type": "display_data"
    }
   ],
   "source": [
    "most_popular_cities_counts2 = sex_condition2['Город'].value_counts()\n",
    "print(f\"Топ 5 самых популярных городов по численности среди женщин: \\n{most_popular_cities_counts2.head().plot(kind='pie')}\\n\")"
   ]
  },
  {
   "cell_type": "code",
   "execution_count": 244,
   "id": "1de275f4-6776-4c64-8849-77386963110c",
   "metadata": {},
   "outputs": [
    {
     "name": "stderr",
     "output_type": "stream",
     "text": [
      "/tmp/ipykernel_1178062/1402075426.py:41: SettingWithCopyWarning: \n",
      "A value is trying to be set on a copy of a slice from a DataFrame.\n",
      "Try using .loc[row_indexer,col_indexer] = value instead\n",
      "\n",
      "See the caveats in the documentation: https://pandas.pydata.org/pandas-docs/stable/user_guide/indexing.html#returning-a-view-versus-a-copy\n",
      "  df_by_popular_city[category] = pd.to_numeric(df_by_popular_city[category], errors='coerce')\n"
     ]
    },
    {
     "name": "stdin",
     "output_type": "stream",
     "text": [
      "Введите желаемый сегмент рынка:  Супермаркеты\n"
     ]
    },
    {
     "name": "stdout",
     "output_type": "stream",
     "text": [
      "Средние траты по категории Супермаркеты в 5-ти самых популярных городах: \n",
      "Axes(0.125,0.11;0.775x0.77)\n",
      "\n"
     ]
    },
    {
     "data": {
      "image/png": "[encoded data removed]",
      "text/plain": [
       "<Figure size 640x480 with 1 Axes>"
      ]
     },
     "metadata": {},
     "output_type": "display_data"
    }
   ],
   "source": [
    "all_categories = [\n",
    "    'Авто',\n",
    "    'АЗС',\n",
    "    'Аренда авто',\n",
    "    'Дом и ремонт',\n",
    "    'Животные',\n",
    "    'Здоровье',\n",
    "    'Кафе и рестораны',\n",
    "    'Книги',\n",
    "    'Коммунальные услуги',\n",
    "    'Красота',\n",
    "    'Образование',\n",
    "    'Одежда и обувь',\n",
    "    'Путешествия',\n",
    "    'Развлечения',\n",
    "    'Связь, интернет и ТВ',\n",
    "    'Спортивные товары',\n",
    "    'Супермаркеты',\n",
    "    'Такси',\n",
    "    'Техника',\n",
    "    'Транспорт',\n",
    "    'Фастфуд',\n",
    "    'Фастфуд, кафе, рестораны',\n",
    "    'Цветы',\n",
    "    'Цифровые товары',\n",
    "    'Ювелирные изделия'\n",
    "]\n",
    " \n",
    "popular_cities = [\n",
    "    \"Москва\", \n",
    "    \"Санкт-Петербург\",\n",
    "    \"Екатеринбург\", \n",
    "    \"Новосибирск\",\n",
    "    \"Краснодар\"\n",
    "]\n",
    "\n",
    "#  Производим выборку клиентов из топ 5-ти самых популярных городов\n",
    "df_by_popular_city = df[df[\"Город\"].isin(popular_cities)]\n",
    "#  переводим тип каждого поля в числовой\n",
    "for category in all_categories:\n",
    "    df_by_popular_city[category] = pd.to_numeric(df_by_popular_city[category], errors='coerce')\n",
    "    \n",
    "#  Эмулируем ввод пользователя в форму\n",
    "desired_category = input(\"Введите желаемый сегмент рынка: \")\n",
    "if desired_category not in all_categories:\n",
    "    raise ValueError(\"Категория отсутсвует в таблице.\")\n",
    "    \n",
    "#  Находим средние траты клиентов по выбранной категории в 5-ти самых популярных городах\n",
    "avg_value_by_cities = df_by_popular_city.groupby('Город')[desired_category].mean().plot(kind='barh')\n",
    "print(f\"Средние траты по категории {desired_category} в 5-ти самых популярных городах: \\n{avg_value_by_cities}\\n\")"
   ]
  },
  {
   "cell_type": "code",
   "execution_count": null,
   "id": "0cf9bce8-0522-488a-98f5-2b2628c8934f",
   "metadata": {},
   "outputs": [],
   "source": [
    "#  Находим список трат клиентов всех категорий по городам\n",
    "average_value_by_city = popular_city.groupby('Город')[all_categories].mean()\n",
    "\n",
    "# Создаем plot\n",
    "ax = average_value_by_city.plot(kind='barh', figsize=(10,7))\n",
    "\n",
    "# Пермещаем legend вправо от plot\n",
    "ax.legend(loc='center left', bbox_to_anchor=(1, 0.5))"
   ]
  },
  {
   "cell_type": "code",
   "execution_count": null,
   "id": "e855c8e7-2b52-4b11-aae0-c11fa4828718",
   "metadata": {},
   "outputs": [],
   "source": []
  }
 ],
 "metadata": {
  "kernelspec": {
   "display_name": "Python 3 (ipykernel)",
   "language": "python",
   "name": "python3"
  },
  "language_info": {
   "codemirror_mode": {
    "name": "ipython",
    "version": 3
   },
   "file_extension": ".py",
   "mimetype": "text/x-python",
   "name": "python",
   "nbconvert_exporter": "python",
   "pygments_lexer": "ipython3",
   "version": "3.8.10"
  }
 },
 "nbformat": 4,
 "nbformat_minor": 5
}
